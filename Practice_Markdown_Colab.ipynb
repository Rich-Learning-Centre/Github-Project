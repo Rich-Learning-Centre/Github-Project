{
  "nbformat": 4,
  "nbformat_minor": 0,
  "metadata": {
    "colab": {
      "provenance": [],
      "authorship_tag": "ABX9TyNJ0ZwEWK5L/RxMpZLHb+rR",
      "include_colab_link": true
    },
    "kernelspec": {
      "name": "python3",
      "display_name": "Python 3"
    },
    "language_info": {
      "name": "python"
    }
  },
  "cells": [
    {
      "cell_type": "markdown",
      "metadata": {
        "id": "view-in-github",
        "colab_type": "text"
      },
      "source": [
        "<a href=\"https://colab.research.google.com/github/Rich-Learning-Centre/Github-Project/blob/main/Practice_Markdown_Colab.ipynb\" target=\"_parent\"><img src=\"https://colab.research.google.com/assets/colab-badge.svg\" alt=\"Open In Colab\"/></a>"
      ]
    },
    {
      "cell_type": "markdown",
      "source": [
        "# Creating Hello function\n",
        "\n"
      ],
      "metadata": {
        "id": "PnKiAimDW6SR"
      }
    },
    {
      "cell_type": "code",
      "execution_count": 2,
      "metadata": {
        "id": "Q12xu2ycWnBY"
      },
      "outputs": [],
      "source": [
        "\n",
        "def hello():\n",
        "    return \"hello world\""
      ]
    },
    {
      "cell_type": "markdown",
      "source": [
        "## Pring the function"
      ],
      "metadata": {
        "id": "6HQMcnJ9XMyn"
      }
    },
    {
      "cell_type": "code",
      "source": [
        "print(hello())"
      ],
      "metadata": {
        "colab": {
          "base_uri": "https://localhost:8080/"
        },
        "id": "-fJuUkDkW4hO",
        "outputId": "87bc9d08-515a-4c71-f354-b3140be88dc7"
      },
      "execution_count": 3,
      "outputs": [
        {
          "output_type": "stream",
          "name": "stdout",
          "text": [
            "hello world\n"
          ]
        }
      ]
    },
    {
      "cell_type": "markdown",
      "source": [],
      "metadata": {
        "id": "xQOI0gJqW0Up"
      }
    }
  ]
}